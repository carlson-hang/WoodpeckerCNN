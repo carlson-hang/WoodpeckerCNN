{
 "cells": [
  {
   "cell_type": "code",
   "execution_count": 5,
   "metadata": {},
   "outputs": [],
   "source": [
    "import tensorflow\n",
    "from keras.models import Sequential\n",
    "from keras.layers import Dense, Dropout, Activation, Flatten\n",
    "from keras.layers import Convolution2D, MaxPooling2D\n",
    "from keras.optimizers import Adam\n",
    "from keras.utils import np_utils\n",
    "from keras.utils import to_categorical\n",
    "from keras.models import load_model\n",
    "import librosa\n",
    "import h5py\n",
    "import os\n",
    "import ffmpeg\n",
    "import audioread\n",
    "from subprocess import call\n",
    "import numpy as np\n",
    "from sklearn.model_selection import train_test_split\n",
    "from pathlib import Path\n",
    "import sys\n"
   ]
  },
  {
   "cell_type": "code",
   "execution_count": null,
   "metadata": {},
   "outputs": [
    {
     "name": "stdout",
     "output_type": "stream",
     "text": [
      "File Corrupted C:\\Users\\Carlson\\Woodpecker\\data\\not_woodpecker_4000\\Non_WoodpeckerAudio1519878719-2.mp3\n",
      "File Corrupted C:\\Users\\Carlson\\Woodpecker\\data\\not_woodpecker_4000\\Non_WoodpeckerAudio1519879382-2.mp3\n",
      "File Corrupted C:\\Users\\Carlson\\Woodpecker\\data\\not_woodpecker_4000\\Non_WoodpeckerAudio1519880941-3.mp3\n",
      "File Corrupted C:\\Users\\Carlson\\Woodpecker\\data\\not_woodpecker_4000\\Non_WoodpeckerAudio1519881745-2.mp3\n",
      "File Corrupted C:\\Users\\Carlson\\Woodpecker\\data\\not_woodpecker_4000\\Non_WoodpeckerAudio1519881865-3.mp3\n"
     ]
    }
   ],
   "source": [
    "#def createDataset():\n",
    "cwd = os.getcwd()\n",
    "woodpecker_dir = os.path.join(cwd, \"data\\woodpecker\")\n",
    "notwoodpecker_dir = os.path.join(cwd, \"data\\\\not_woodpecker_4000\")\n",
    "labels = []\n",
    "data = []\n",
    "my_file = Path(\"model.h5\")\n",
    "if not my_file.is_file():\n",
    "    for file in os.listdir(notwoodpecker_dir):\n",
    "        file_name = os.path.join(notwoodpecker_dir, file)\n",
    "        try:\n",
    "            y, sr = librosa.load(file_name, duration=2.0)\n",
    "            mfccs = np.mean(librosa.power_to_db(librosa.feature.mfcc(y=y, sr=sr, n_mfcc=50)).T, axis=0)\n",
    "            labels.append(0)\n",
    "            data.append(mfccs)\n",
    "        except:\n",
    "            print(\"File Corrupted\", file_name)\n",
    "#     for file in os.listdir(woodpecker_dir):\n",
    "#         file_name = os.path.join(woodpecker_dir, file)\n",
    "#         try:\n",
    "#             y, sr = librosa.load(file_name, duration=2.0)\n",
    "#             mfccs = np.mean(librosa.logamplitude(librosa.feature.mfcc(y=y, sr=sr, n_mfcc=50)).T, axis=0)\n",
    "#             labels.append(1)\n",
    "#             data.append(mfccs)\n",
    "#         except NoBackendError:\n",
    "#             print(\"File Corrupted\", file_name)\n",
    "    \n",
    "        \n",
    "    data = np.array(data)\n",
    "    labels = np.array(labels)\n",
    "    #print(data.shape)\n",
    "    (trainX, testX, trainY, testY) = train_test_split(data, labels, test_size=0.25, random_state=42)\n",
    "    trainY=to_categorical(trainY, num_classes=2)\n",
    "    testY=to_categorical(testY, num_classes=2)\n",
    "    \n",
    "    model = Sequential()\n",
    "\n",
    "    model.add(Dense(256, input_shape=(50,)))\n",
    "    model.add(Activation('relu'))\n",
    "    model.add(Dropout(0.5))\n",
    "\n",
    "    model.add(Dense(256))\n",
    "    model.add(Activation('relu'))\n",
    "    model.add(Dropout(0.5))\n",
    "\n",
    "    model.add(Dense(2))\n",
    "    model.add(Activation('softmax'))\n",
    "\n",
    "    model.compile(loss='binary_crossentropy', metrics=['accuracy'], optimizer='adam')\n",
    "    model.fit(trainX, trainY, batch_size=32, epochs=5, validation_data=(testX, testY))\n",
    "    model.save('model.h5')\n",
    "else:\n",
    "    model = load_model('model.h5')"
   ]
  },
  {
   "cell_type": "code",
   "execution_count": null,
   "metadata": {},
   "outputs": [],
   "source": [
    "#trainX = np.array(trainX, dtype=\"float\").tolist()\n"
   ]
  },
  {
   "cell_type": "code",
   "execution_count": null,
   "metadata": {},
   "outputs": [],
   "source": [
    "#test_file = os.path.join(cwd, \"data\\woodpecker\\\\1.mp3\")\n",
    "test_file = os.path.join(cwd, \"data\\woodpecker_4000\\\\WoodpeckerAudio1519639627-1.mp3\")\n",
    "y,sr = librosa.load(test_file)\n",
    "mfccs = np.mean(librosa.logamplitude(librosa.feature.mfcc(y=y, sr=sr, n_mfcc=50)).T, axis=0)\n",
    "newData = []\n",
    "newData.append(mfccs)\n",
    "newData = np.array(newData)\n",
    "print(mfccs.shape)\n",
    "(notWood, Wood) = model.predict(newData)[0]\n",
    "label = \"Woodpecker\" if Wood > notWood else \"Not Woodpecker\"\n",
    "proba = Wood if Wood > notWood else notWood\n",
    "label = \"{}: {:.2f}%\".format(label, proba * 100)\n",
    "print(label)\n",
    "#print(model.predict(newData)[0])"
   ]
  },
  {
   "cell_type": "code",
   "execution_count": 13,
   "metadata": {},
   "outputs": [
    {
     "name": "stdout",
     "output_type": "stream",
     "text": [
      "File Corrupted\n"
     ]
    }
   ],
   "source": [
    "try:\n",
    "    raise NameError()\n",
    "except NameError:\n",
    "    print(\"File Corrupted\")"
   ]
  },
  {
   "cell_type": "code",
   "execution_count": null,
   "metadata": {},
   "outputs": [],
   "source": []
  }
 ],
 "metadata": {
  "kernelspec": {
   "display_name": "Python 3",
   "language": "python",
   "name": "python3"
  },
  "language_info": {
   "codemirror_mode": {
    "name": "ipython",
    "version": 3
   },
   "file_extension": ".py",
   "mimetype": "text/x-python",
   "name": "python",
   "nbconvert_exporter": "python",
   "pygments_lexer": "ipython3",
   "version": "3.5.4"
  }
 },
 "nbformat": 4,
 "nbformat_minor": 2
}
