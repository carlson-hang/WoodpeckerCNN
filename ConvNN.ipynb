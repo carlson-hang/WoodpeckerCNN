{
 "cells": [
  {
   "cell_type": "markdown",
   "metadata": {},
   "source": [
    "# Important:\n",
    "\n",
    "In order for this code to generate a model usable on the RBPi, you need to have the same versions of Librosa, Keras, and Tensorflow installed. The other package versions may not be significant, but if you are running into errors, check the package versions installable on the RBPi and install the same on the model creating device."
   ]
  },
  {
   "cell_type": "code",
   "execution_count": 12,
   "metadata": {},
   "outputs": [],
   "source": [
    "from keras.models import Sequential\n",
    "from keras.layers import Dense, Dropout, Activation, Flatten\n",
    "from keras.layers import Convolution2D, MaxPooling2D\n",
    "from keras.optimizers import Adam\n",
    "from keras.utils import np_utils\n",
    "from keras.utils import to_categorical\n",
    "from keras.models import load_model\n",
    "import tensorflow\n",
    "import librosa\n",
    "import numpy as np\n",
    "import random\n",
    "import os\n",
    "from pathlib import Path\n",
    "from math import trunc\n",
    "import matplotlib.pyplot as plt\n",
    "\n",
    "cwd = os.getcwd()\n",
    "\n",
    "# import warnings\n",
    "# warnings.filterwarnings('ignore')"
   ]
  },
  {
   "cell_type": "code",
   "execution_count": 2,
   "metadata": {},
   "outputs": [
    {
     "name": "stdout",
     "output_type": "stream",
     "text": [
      "No model found, creating new model.h...\n",
      "All audio has been imported...\n",
      "Train on 4500 samples, validate on 1500 samples\n",
      "Epoch 1/2\n",
      "4500/4500 [==============================] - 288s 64ms/step - loss: 1.5699 - acc: 0.7918 - val_loss: 0.3559 - val_acc: 0.9260\n",
      "Epoch 2/2\n",
      "4500/4500 [==============================] - 277s 62ms/step - loss: 0.4244 - acc: 0.9144 - val_loss: 0.1314 - val_acc: 0.9867\n",
      "1500/1500 [==============================] - 3s 2ms/step\n",
      "Model created and saved...\n"
     ]
    }
   ],
   "source": [
    "# Imports all specified audio files, will only import if model.h5 doesn't exist.\n",
    "# If training new model, manually delete old model\n",
    "# Cannot keep training model if model was created previously (for next cell, code can be modified to accept this)\n",
    "# Model closely based on Ajay Halthor's implementation\n",
    "my_file = Path(\"model.h5\")\n",
    "if not my_file.is_file(): \n",
    "    print(\"No model found, creating new model.h...\")\n",
    "    \n",
    "    # Initialize dataset array, source directories and file counts\n",
    "    # Change counts according to own dataset and change split percentage if necessary\n",
    "    D = []\n",
    "    quietwoodpecker_dir = os.path.join(cwd, \"data\\woodpecker_quiet\")\n",
    "    quietCount = 1000\n",
    "    woodpecker_dir = os.path.join(cwd, \"data\\woodpecker\")\n",
    "    woodCount = 2000\n",
    "    notwoodpecker_dir= os.path.join(cwd, \"data\\\\notwoodpecker\")\n",
    "    notwoodCount = 3000\n",
    "    total = quietCount + woodCount + notwoodCount\n",
    "    split= .75\n",
    "    \n",
    "    # Import audio from different sources. In our case there was seperate \"woodepcker\" directories\n",
    "    # Appends data and assigns labels. Change value of counts according to personal dataset size.\n",
    "    count = 0;\n",
    "    for file in os.listdir(quietwoodpecker_dir):\n",
    "        if(count==quietCount):\n",
    "            break\n",
    "        file_name = os.path.join(quietwoodpecker_dir, file)\n",
    "        try:\n",
    "            y, sr = librosa.load(file_name, duration=1)  \n",
    "            ps = librosa.feature.melspectrogram(y=y, sr=sr)\n",
    "            if ps.shape != (128, 44): continue\n",
    "            D.append((ps, 1))\n",
    "            count+=1\n",
    "        except:\n",
    "            print(\"File corrupted:\", file_name)\n",
    "\n",
    "    count = 0;\n",
    "    for file in os.listdir(woodpecker_dir):\n",
    "        if(count==woodCount):\n",
    "            break\n",
    "        file_name = os.path.join(woodpecker_dir, file)\n",
    "        try:\n",
    "            y, sr = librosa.load(file_name, duration=1)  \n",
    "            ps = librosa.feature.melspectrogram(y=y, sr=sr)\n",
    "            if ps.shape != (128, 44): continue\n",
    "            D.append((ps, 1))\n",
    "            count+=1\n",
    "        except:\n",
    "            print(\"File corrupted:\", file_name)\n",
    "\n",
    "    count=0\n",
    "    for file in os.listdir(notwoodpecker_dir):\n",
    "        if(count==notwoodCount):\n",
    "            break\n",
    "        file_name = os.path.join(notwoodpecker_dir, file)\n",
    "        try:\n",
    "            y, sr = librosa.load(file_name, duration=1)  \n",
    "            ps = librosa.feature.melspectrogram(y=y, sr=sr)\n",
    "            if ps.shape != (128, 44): continue\n",
    "            D.append((ps, 0))\n",
    "            count+=1\n",
    "        except:\n",
    "            print(\"File corrupted:\", file_name)\n",
    "            \n",
    "    print(\"All audio has been imported...\")\n",
    "    \n",
    "    #Shuffles the dataset and splits training and test set\n",
    "    dataset = D\n",
    "    random.shuffle(dataset)\n",
    "\n",
    "    train = dataset[:trunc(total*split)]\n",
    "    test = dataset[trunc(total*split):]\n",
    "\n",
    "    X_train, y_train = zip(*train)\n",
    "    X_test, y_test = zip(*test)\n",
    "\n",
    "    # Reshape for CNN input\n",
    "    X_train = np.array([x.reshape( (128, 44, 1) ) for x in X_train])\n",
    "    X_test = np.array([x.reshape( (128, 44, 1) ) for x in X_test])\n",
    "\n",
    "    # One-Hot encoding for classes\n",
    "    y_train = np.array(to_categorical(y_train, 2))\n",
    "    y_test = np.array(to_categorical(y_test, 2))\n",
    "    \n",
    "    # Layer creation for CNN\n",
    "    model = Sequential()\n",
    "    input_shape=(128, 44, 1)\n",
    "\n",
    "    model.add(Convolution2D(24, (5, 5), strides=(1, 1), input_shape=input_shape))\n",
    "    model.add(MaxPooling2D((4, 2), strides=(4, 2)))\n",
    "    model.add(Activation('relu'))\n",
    "\n",
    "    model.add(Convolution2D(48, (5, 5), padding=\"valid\"))\n",
    "    model.add(MaxPooling2D((4, 2), strides=(4, 2)))\n",
    "    model.add(Activation('relu'))\n",
    "\n",
    "    model.add(Convolution2D(48, (5, 5), padding=\"valid\"))\n",
    "    model.add(Activation('relu'))\n",
    "\n",
    "    model.add(Flatten())\n",
    "    model.add(Dropout(rate=0.5))\n",
    "\n",
    "    model.add(Dense(64))\n",
    "    model.add(Activation('relu'))\n",
    "    model.add(Dropout(rate=0.5))\n",
    "\n",
    "    model.add(Dense(2))\n",
    "    model.add(Activation('softmax'))\n",
    "    \n",
    "    model.compile(optimizer=\"Adam\", loss=\"categorical_crossentropy\", metrics=['accuracy'])\n",
    "    \n",
    "    # Fit model to data and evaluate, change epochs if necessary\n",
    "    model.fit(x=X_train, y=y_train, epochs=2, batch_size=128, validation_data= (X_test, y_test))\n",
    "\n",
    "    score = model.evaluate(x=X_test,y=y_test)\n",
    "    model.save('model.h5')\n",
    "    print(\"Model created and saved...\")\n",
    "else:\n",
    "    print(\"Loading model from model.h5...\")\n",
    "    model = load_model('model.h5')"
   ]
  },
  {
   "cell_type": "code",
   "execution_count": 14,
   "metadata": {},
   "outputs": [
    {
     "name": "stdout",
     "output_type": "stream",
     "text": [
      "(1500, 128, 44, 1)\n",
      "(1500,)\n",
      "(1500, 2)\n"
     ]
    },
    {
     "data": {
      "image/png": "[encoded data removed]",
      "text/plain": [
       "<Figure size 432x288 with 1 Axes>"
      ]
     },
     "metadata": {},
     "output_type": "display_data"
    },
    {
     "data": {
      "image/png": "[encoded data removed]",
      "text/plain": [
       "<Figure size 432x288 with 1 Axes>"
      ]
     },
     "metadata": {},
     "output_type": "display_data"
    }
   ],
   "source": [
    "from sklearn.metrics import roc_curve\n",
    "y_pred_keras = model.predict(X_test)\n",
    "fpr_keras, tpr_keras, thresholds_keras = roc_curve(y_test.argmax(axis=1), y_pred_keras.argmax(axis=1))\n",
    "\n",
    "from sklearn.metrics import auc\n",
    "auc_keras = auc(fpr_keras, tpr_keras)\n",
    "\n",
    "plt.figure(1)\n",
    "plt.plot([0, 1], [0, 1], 'k--')\n",
    "plt.plot(fpr_keras, tpr_keras, label='Keras (area = {:.3f})'.format(auc_keras))\n",
    "plt.xlabel('False positive rate')\n",
    "plt.ylabel('True positive rate')\n",
    "plt.title('ROC curve')\n",
    "plt.legend(loc='best')\n",
    "plt.show()\n",
    "# Zoom in view of the upper left corner.\n",
    "plt.figure(2)\n",
    "plt.xlim(0, 0.2)\n",
    "plt.ylim(0.8, 1)\n",
    "plt.plot([0, 1], [0, 1], 'k--')\n",
    "plt.plot(fpr_keras, tpr_keras, label='Keras (area = {:.3f})'.format(auc_keras))\n",
    "plt.xlabel('False positive rate')\n",
    "plt.ylabel('True positive rate')\n",
    "plt.title('ROC curve (zoomed in at top left)')\n",
    "plt.legend(loc='best')\n",
    "plt.show()"
   ]
  },
  {
   "cell_type": "code",
   "execution_count": null,
   "metadata": {},
   "outputs": [],
   "source": [
    "# Simply test a file that is NOT part of the original dataset, just change path in next line\n",
    "test_file = os.path.join(cwd, \"data\\\\testing\\\\pecker.mp3\")\n",
    "\n",
    "y, sr = librosa.load(test_file, duration=1)  \n",
    "ps = librosa.feature.melspectrogram(y=y, sr=sr)\n",
    "test = np.array([ps.reshape( (128, 44, 1) )])\n",
    "\n",
    "# This assumes acceptance rate of 50%, this may be djusted to how the device interprets audio\n",
    "# For example,if most non-woodpecker audio falls under 5% and introducing woodpecker audio brings prediction up to 15%,\n",
    "# you may want to change the threshold to 10%. This should also be done for the device code as well.\n",
    "(notWood, Wood) = model.predict(test)[0]\n",
    "label = \"Woodpecker\" if Wood > notWood else \"Not Woodpecker\"\n",
    "proba = Wood if Wood > notWood else notWood\n",
    "label = \"{}: {:.2f}%\".format(label, proba * 100)\n",
    "print(label)"
   ]
  },
  {
   "cell_type": "code",
   "execution_count": null,
   "metadata": {},
   "outputs": [],
   "source": [
    "# Only run this cell if getting poor results in previous cell. Will keep fitting data to obtain higher accuracy\n",
    "# Warning, may overfit data, cannot be done for imported models\n",
    "model.fit(x=X_train, y=y_train, epochs=1, batch_size=128, validation_data= (X_test, y_test))"
   ]
  }
 ],
 "metadata": {
  "kernelspec": {
   "display_name": "Python 3",
   "language": "python",
   "name": "python3"
  },
  "language_info": {
   "codemirror_mode": {
    "name": "ipython",
    "version": 3
   },
   "file_extension": ".py",
   "mimetype": "text/x-python",
   "name": "python",
   "nbconvert_exporter": "python",
   "pygments_lexer": "ipython3",
   "version": "3.5.4"
  }
 },
 "nbformat": 4,
 "nbformat_minor": 2
}
